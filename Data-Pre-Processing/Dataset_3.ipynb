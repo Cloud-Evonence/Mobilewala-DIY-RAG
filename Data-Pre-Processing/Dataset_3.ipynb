{
  "cells": [
    {
      "cell_type": "code",
      "id": "XmRlaMnFWAHMCCN2TnTq1Jzx",
      "metadata": {
        "tags": [],
        "id": "XmRlaMnFWAHMCCN2TnTq1Jzx",
        "colab": {
          "base_uri": "https://localhost:8080/"
        },
        "executionInfo": {
          "status": "ok",
          "timestamp": 1742558913270,
          "user_tz": -330,
          "elapsed": 699,
          "user": {
            "displayName": "",
            "userId": ""
          }
        },
        "outputId": "9d06a9e0-fe7f-4d25-c60a-607cca076ded"
      },
      "source": [
        "import pandas as pd\n",
        "\n",
        "# Load your CSV file (replace 'your_file.csv' with the actual file path in Colab)\n",
        "df = pd.read_csv('/content/llm-human-readable__content_perfect3_processed_data_part-00000-edbbc52d-1449-48a9-af87-48d605e9922a-c000.csv')\n",
        "\n",
        "# Mapping for broadband types to their full names (if needed)\n",
        "bb_type_mapping = {\n",
        "    'Fixed Broadband': 'Fixed Broadband',\n",
        "    'Fixed Wireless Access': 'Fixed Wireless Access'\n",
        "}\n",
        "\n",
        "# Function to generate the new summary based on the proposed template\n",
        "def create_uniform_summary(row):\n",
        "    try:\n",
        "        # Extract values from the row using the correct column names\n",
        "        carrier = row['hh_bb_carrier']  # e.g., Comcast\n",
        "        bb_type = bb_type_mapping.get(row['bb_type'], row['bb_type'])  # Map broadband type\n",
        "        distinct_hh = int(row['distinct_hhid_count'])  # Number of distinct households\n",
        "        total_hh = int(row['total_hhids'])  # Total households\n",
        "        carrier_share = float(row['carrier_share']) * 100  # Convert to percentage (e.g., 0.282 → 28.2)\n",
        "\n",
        "        # Format the summary using the proposed template\n",
        "        summary = (f\"In the USA, during 2024, July, \"\n",
        "                   f\"{carrier} providing {bb_type} services served {distinct_hh:,} households \"\n",
        "                   f\"out of a total of {total_hh:,} in the country, resulting in a market share of {carrier_share:.1f}%.\")\n",
        "\n",
        "        return summary\n",
        "    except Exception as e:\n",
        "        return f\"Error processing row: {str(e)}\"\n",
        "\n",
        "# Apply the function to the Human_Readable_Summary column\n",
        "df['Human_Readable_Summary'] = df.apply(create_uniform_summary, axis=1)\n",
        "\n",
        "# Save the updated CSV (replace 'updated_file.csv' with your desired output file name)\n",
        "df.to_csv('updated_file.csv', index=False)\n",
        "\n",
        "# Display the updated summaries to verify\n",
        "print(df[['Human_Readable_Summary']])\n",
        "\n",
        "# Check for any errors in the summaries\n",
        "errors = df[df['Human_Readable_Summary'].str.contains(\"Error processing row\")]\n",
        "if not errors.empty:\n",
        "    print(\"\\nRows with errors:\")\n",
        "    print(errors)\n",
        "else:\n",
        "    print(\"\\nNo errors found in the summaries.\")"
      ],
      "execution_count": 2,
      "outputs": [
        {
          "output_type": "stream",
          "name": "stdout",
          "text": [
            "                                Human_Readable_Summary\n",
            "0    In the USA, during 2024, July, Comcast providi...\n",
            "1    In the USA, during 2024, July, Spectrum provid...\n",
            "2    In the USA, during 2024, July, AT&T providing ...\n",
            "3    In the USA, during 2024, July, Verizon providi...\n",
            "4    In the USA, during 2024, July, Cox providing F...\n",
            "..                                                 ...\n",
            "110  In the USA, during 2024, July, Clearwave Fiber...\n",
            "111  In the USA, during 2024, July, IdeaTek providi...\n",
            "112  In the USA, during 2024, July, Union Wireless ...\n",
            "113  In the USA, during 2024, July, Xtream providin...\n",
            "114  In the USA, during 2024, July, Vast Broadband ...\n",
            "\n",
            "[115 rows x 1 columns]\n",
            "\n",
            "No errors found in the summaries.\n"
          ]
        }
      ]
    }
  ],
  "metadata": {
    "kernelspec": {
      "display_name": "Python 3",
      "language": "python",
      "name": "python3"
    },
    "language_info": {
      "codemirror_mode": {
        "name": "ipython",
        "version": 3
      },
      "file_extension": ".py",
      "mimetype": "text/x-python",
      "name": "python",
      "nbconvert_exporter": "python",
      "pygments_lexer": "ipython3",
      "version": "3.10.10"
    },
    "colab": {
      "provenance": [],
      "name": "masiyuddin.khan (Mar 21, 2025, 5:28:33 PM)"
    }
  },
  "nbformat": 4,
  "nbformat_minor": 5
}