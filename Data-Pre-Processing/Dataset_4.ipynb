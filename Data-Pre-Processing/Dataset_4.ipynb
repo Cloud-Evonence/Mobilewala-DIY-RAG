{
  "cells": [
    {
      "cell_type": "code",
      "id": "qmaFyHKemu2k4IoXB1uGvGZb",
      "metadata": {
        "tags": [],
        "id": "qmaFyHKemu2k4IoXB1uGvGZb",
        "colab": {
          "base_uri": "https://localhost:8080/"
        },
        "executionInfo": {
          "status": "ok",
          "timestamp": 1742569718932,
          "user_tz": -330,
          "elapsed": 7,
          "user": {
            "displayName": "",
            "userId": ""
          }
        },
        "outputId": "73741eca-722b-4eb5-fefa-2a71b146cc2e"
      },
      "source": [
        "import pandas as pd\n",
        "import csv\n",
        "\n",
        "# Load the CSV file\n",
        "df = pd.read_csv(\n",
        "    '/content/llm-human-readable__content_perfect4_part-00000-b2bba7e9-83e1-4d80-9d14-5abac0a2d226-c000.csv',  # Replace with your actual file path\n",
        "    quoting=csv.QUOTE_ALL,\n",
        "    na_values=['']\n",
        ")\n",
        "\n",
        "# Mapping for broadband types to their full names\n",
        "bb_type_mapping = {\n",
        "    'FBB': 'Fixed Broadband',\n",
        "    'FWA': 'Fixed Wireless Access'\n",
        "}\n",
        "\n",
        "# Function to generate the new summary based on the proposed template\n",
        "def create_uniform_summary(row):\n",
        "    try:\n",
        "        # Extract values from the row using the correct column names\n",
        "        carrier_1 = row['carrier_1']  # e.g., AT&T\n",
        "        bb_type_1 = bb_type_mapping.get(row['carrier_1_bb_type'], row['carrier_1_bb_type'])  # Map FBB to Fixed Broadband\n",
        "        carrier_2 = row['carrier_2']  # e.g., Airstream Communications, LLC\n",
        "        bb_type_2 = bb_type_mapping.get(row['carrier_2_bb_type'], row['carrier_2_bb_type'])  # Map FBB to Fixed Broadband\n",
        "\n",
        "        # Swap the variables to match the template's order\n",
        "        num_1_to_2 = int(row['num_2_outflow'])  # Households that moved from Carrier 1 to Carrier 2 (should be 22 in the template)\n",
        "        num_2_to_1 = int(row['num_1_inflow'])   # Households that moved from Carrier 2 to Carrier 1 (should be 31 in the template)\n",
        "        net_flow = int(row['num_3_netflow'])    # Net flow from Carrier 1 to Carrier 2\n",
        "\n",
        "        # Format the summary using the proposed template\n",
        "        summary = (f\"During the period of 2024 June to 2024 July, in the USA, \"\n",
        "                   f\"{num_1_to_2} households which were served by {carrier_1} that provides {bb_type_1} services moved to {carrier_2} that provides {bb_type_2} services \"\n",
        "                   f\"and {num_2_to_1} households that were served by {carrier_2} moved to {carrier_1}, \"\n",
        "                   f\"with a net flow from {carrier_1} to {carrier_2} of {net_flow}.\")\n",
        "\n",
        "        return summary\n",
        "    except Exception as e:\n",
        "        return f\"Error processing row: {str(e)}\"\n",
        "\n",
        "# Rename the 'human_readable_summary' column to 'Human_Readable_Summary'\n",
        "df = df.rename(columns={'human_readable_summary': 'Human_Readable_Summary'})\n",
        "\n",
        "# Apply the function to the Human_Readable_Summary column\n",
        "df['Human_Readable_Summary'] = df.apply(create_uniform_summary, axis=1)\n",
        "\n",
        "# Save the updated CSV\n",
        "df.to_csv('/content/updated_file.csv', index=False)\n",
        "\n",
        "# Display the updated summaries to verify\n",
        "print(df[['Human_Readable_Summary']].head())\n",
        "\n",
        "# Check for any errors in the summaries\n",
        "errors = df[df['Human_Readable_Summary'].str.contains(\"Error processing row\")]\n",
        "if not errors.empty:\n",
        "    print(\"\\nRows with errors:\")\n",
        "    print(errors)\n",
        "else:\n",
        "    print(\"\\nNo errors found in the summaries.\")"
      ],
      "execution_count": 4,
      "outputs": [
        {
          "output_type": "stream",
          "name": "stdout",
          "text": [
            "                              Human_Readable_Summary\n",
            "0  During the period of 2024 June to 2024 July, i...\n",
            "1  During the period of 2024 June to 2024 July, i...\n",
            "2  During the period of 2024 June to 2024 July, i...\n",
            "3  During the period of 2024 June to 2024 July, i...\n",
            "4  During the period of 2024 June to 2024 July, i...\n",
            "\n",
            "No errors found in the summaries.\n"
          ]
        }
      ]
    }
  ],
  "metadata": {
    "kernelspec": {
      "display_name": "Python 3",
      "language": "python",
      "name": "python3"
    },
    "language_info": {
      "codemirror_mode": {
        "name": "ipython",
        "version": 3
      },
      "file_extension": ".py",
      "mimetype": "text/x-python",
      "name": "python",
      "nbconvert_exporter": "python",
      "pygments_lexer": "ipython3",
      "version": "3.10.10"
    },
    "colab": {
      "provenance": [],
      "name": "masiyuddin.khan (Mar 21, 2025, 8:27:13 PM)"
    }
  },
  "nbformat": 4,
  "nbformat_minor": 5
}