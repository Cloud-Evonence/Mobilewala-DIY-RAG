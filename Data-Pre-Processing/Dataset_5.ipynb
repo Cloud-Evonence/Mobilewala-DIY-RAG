{
  "cells": [
    {
      "cell_type": "code",
      "id": "fqukZdZwwVphB8DV8qpkoS67",
      "metadata": {
        "tags": [],
        "id": "fqukZdZwwVphB8DV8qpkoS67",
        "colab": {
          "base_uri": "https://localhost:8080/"
        },
        "executionInfo": {
          "status": "ok",
          "timestamp": 1742560560085,
          "user_tz": -330,
          "elapsed": 13109,
          "user": {
            "displayName": "",
            "userId": ""
          }
        },
        "outputId": "7e2dbc69-e8e9-41c9-bf1c-6e7e7424ec82"
      },
      "source": [
        "import pandas as pd\n",
        "\n",
        "# Load your CSV file (replace 'your_file.csv' with the actual file path in Colab)\n",
        "df = pd.read_csv('/content/llm-human-readable__content_perfect5_part-00000-48ad1bf2-8259-4cb1-962e-eef75f54e9a2-c000.csv')\n",
        "\n",
        "# Mapping for broadband types to their full names\n",
        "bb_type_mapping = {\n",
        "    'FBB': 'Fixed Broadband',\n",
        "    'FWA': 'Fixed Wireless Access'\n",
        "}\n",
        "\n",
        "# Function to generate the new summary based on the proposed template\n",
        "def create_uniform_summary(row):\n",
        "    try:\n",
        "        # Extract values from the row using the correct column names\n",
        "        zip_code = row['Zipcode level']  # e.g., 29360\n",
        "        city = row['City']  # e.g., Laurens\n",
        "        county = row['County']  # e.g., Laurens\n",
        "        state = row['State level']  # e.g., SC (used as both state name and code in this context)\n",
        "        state_code = state  # Since State level is already the code (e.g., SC), use it directly\n",
        "        carrier_1 = row['Carrier_1']  # e.g., AT&T\n",
        "        bb_type_1 = bb_type_mapping.get(row['Carrier_1_BB_type'], row['Carrier_1_BB_type'])  # Map FBB to Fixed Broadband\n",
        "        carrier_2 = row['Carrier_2']  # e.g., Spirit Communications\n",
        "        bb_type_2 = bb_type_mapping.get(row['Carrier_2_BB_type'], row['Carrier_2_BB_type'])  # Map FBB to Fixed Broadband\n",
        "        num_2_outflow = int(row['num_2_outflow'])  # Households that moved from Carrier 1 to Carrier 2\n",
        "        num_1_inflow = int(row['num_1_inflow'])    # Households that moved from Carrier 2 to Carrier 1\n",
        "        net_flow = int(row['num_3_netflow'])       # Net flow from Carrier 1 to Carrier 2\n",
        "\n",
        "        # Format the summary using the proposed template\n",
        "        summary = (f\"During the period of 2024 June to 2024 July, in the zip code of {zip_code} in {city}, {county} \"\n",
        "                   f\"in the state of {state} ({state_code}) in USA, \"\n",
        "                   f\"{num_2_outflow} households which were served by {carrier_1} that provides {bb_type_1} services moved to {carrier_2} that provides {bb_type_2} services \"\n",
        "                   f\"and {num_1_inflow} households that were served by {carrier_2} moved to {carrier_1}, \"\n",
        "                   f\"with a net flow from {carrier_1} to {carrier_2} of {net_flow}.\")\n",
        "\n",
        "        return summary\n",
        "    except Exception as e:\n",
        "        return f\"Error processing row: {str(e)}\"\n",
        "\n",
        "# Rename the 'Summary' column to 'Human_Readable_Summary'\n",
        "df = df.rename(columns={'Summary': 'Human_Readable_Summary'})\n",
        "\n",
        "# Apply the function to the Human_Readable_Summary column\n",
        "df['Human_Readable_Summary'] = df.apply(create_uniform_summary, axis=1)\n",
        "\n",
        "# Save the updated CSV (replace 'updated_file.csv' with your desired output file name)\n",
        "df.to_csv('updated_file.csv', index=False)\n",
        "\n",
        "# Display the updated summaries to verify\n",
        "print(df[['Human_Readable_Summary']])\n",
        "\n",
        "# Check for any errors in the summaries\n",
        "errors = df[df['Human_Readable_Summary'].str.contains(\"Error processing row\")]\n",
        "if not errors.empty:\n",
        "    print(\"\\nRows with errors:\")\n",
        "    print(errors)\n",
        "else:\n",
        "    print(\"\\nNo errors found in the summaries.\")"
      ],
      "execution_count": 1,
      "outputs": [
        {
          "output_type": "stream",
          "name": "stderr",
          "text": [
            "<ipython-input-1-80bf414ccb83>:4: DtypeWarning: Columns (8) have mixed types. Specify dtype option on import or set low_memory=False.\n",
            "  df = pd.read_csv('/content/llm-human-readable__content_perfect5_part-00000-48ad1bf2-8259-4cb1-962e-eef75f54e9a2-c000.csv')\n"
          ]
        },
        {
          "output_type": "stream",
          "name": "stdout",
          "text": [
            "                                   Human_Readable_Summary\n",
            "0       During the period of 2024 June to 2024 July, i...\n",
            "1       During the period of 2024 June to 2024 July, i...\n",
            "2       During the period of 2024 June to 2024 July, i...\n",
            "3       During the period of 2024 June to 2024 July, i...\n",
            "4       During the period of 2024 June to 2024 July, i...\n",
            "...                                                   ...\n",
            "188779  During the period of 2024 June to 2024 July, i...\n",
            "188780  During the period of 2024 June to 2024 July, i...\n",
            "188781  During the period of 2024 June to 2024 July, i...\n",
            "188782  During the period of 2024 June to 2024 July, i...\n",
            "188783  During the period of 2024 June to 2024 July, i...\n",
            "\n",
            "[188784 rows x 1 columns]\n",
            "\n",
            "No errors found in the summaries.\n"
          ]
        }
      ]
    },
    {
      "cell_type": "code",
      "source": [
        "import pandas as pd\n",
        "\n",
        "# Load your CSV file (replace 'your_file.csv' with the actual file path in Colab)\n",
        "df = pd.read_csv('/content/llm-human-readable__content_perfect5_part-00000-48ad1bf2-8259-4cb1-962e-eef75f54e9a2-c000.csv')\n",
        "\n",
        "# Comprehensive mapping of state/territory codes to full names\n",
        "state_mapping = {\n",
        "    'AL': 'Alabama', 'AK': 'Alaska', 'AZ': 'Arizona', 'AR': 'Arkansas', 'CA': 'California',\n",
        "    'CO': 'Colorado', 'CT': 'Connecticut', 'DE': 'Delaware', 'FL': 'Florida', 'GA': 'Georgia',\n",
        "    'HI': 'Hawaii', 'ID': 'Idaho', 'IL': 'Illinois', 'IN': 'Indiana', 'IA': 'Iowa',\n",
        "    'KS': 'Kansas', 'KY': 'Kentucky', 'LA': 'Louisiana', 'ME': 'Maine', 'MD': 'Maryland',\n",
        "    'MA': 'Massachusetts', 'MI': 'Michigan', 'MN': 'Minnesota', 'MS': 'Mississippi', 'MO': 'Missouri',\n",
        "    'MT': 'Montana', 'NE': 'Nebraska', 'NV': 'Nevada', 'NH': 'New Hampshire', 'NJ': 'New Jersey',\n",
        "    'NM': 'New Mexico', 'NY': 'New York', 'NC': 'North Carolina', 'ND': 'North Dakota', 'OH': 'Ohio',\n",
        "    'OK': 'Oklahoma', 'OR': 'Oregon', 'PA': 'Pennsylvania', 'RI': 'Rhode Island', 'SC': 'South Carolina',\n",
        "    'SD': 'South Dakota', 'TN': 'Tennessee', 'TX': 'Texas', 'UT': 'Utah', 'VT': 'Vermont',\n",
        "    'VA': 'Virginia', 'WA': 'Washington', 'WV': 'West Virginia', 'WI': 'Wisconsin', 'WY': 'Wyoming',\n",
        "    'DC': 'District of Columbia',\n",
        "    # U.S. Territories\n",
        "    'PR': 'Puerto Rico', 'GU': 'Guam', 'VI': 'U.S. Virgin Islands', 'AS': 'American Samoa',\n",
        "    'MP': 'Northern Mariana Islands'\n",
        "}\n",
        "\n",
        "# Mapping for broadband types to their full names\n",
        "bb_type_mapping = {\n",
        "    'FBB': 'Fixed Broadband',\n",
        "    'FWA': 'Fixed Wireless Access'\n",
        "}\n",
        "\n",
        "# Function to generate the new summary based on the proposed template\n",
        "def create_uniform_summary(row):\n",
        "    try:\n",
        "        # Extract values from the row using the correct column names\n",
        "        zip_code = row['Zipcode level']  # e.g., 29360\n",
        "        city = row['City']  # e.g., Laurens\n",
        "        county = row['County']  # e.g., Laurens\n",
        "        state_code = row['State level']  # e.g., SC\n",
        "        state = state_mapping.get(state_code, state_code)  # Map state code to full name (e.g., SC → South Carolina)\n",
        "        carrier_1 = row['Carrier_1']  # e.g., AT&T\n",
        "        bb_type_1 = bb_type_mapping.get(row['Carrier_1_BB_type'], row['Carrier_1_BB_type'])  # Map FBB to Fixed Broadband\n",
        "        carrier_2 = row['Carrier_2']  # e.g., Spirit Communications\n",
        "        bb_type_2 = bb_type_mapping.get(row['Carrier_2_BB_type'], row['Carrier_2_BB_type'])  # Map FBB to Fixed Broadband\n",
        "        num_2_outflow = int(row['num_2_outflow'])  # Households that moved from Carrier 1 to Carrier 2\n",
        "        num_1_inflow = int(row['num_1_inflow'])    # Households that moved from Carrier 2 to Carrier 1\n",
        "        net_flow = int(row['num_3_netflow'])       # Net flow from Carrier 1 to Carrier 2\n",
        "\n",
        "        # Format the summary using the proposed template\n",
        "        summary = (f\"During the period of 2024 June to 2024 July, in the zip code of {zip_code} in {city}, {county} \"\n",
        "                   f\"in the state of {state} ({state_code}) in USA, \"\n",
        "                   f\"{num_2_outflow} households which were served by {carrier_1} that provides {bb_type_1} services moved to {carrier_2} that provides {bb_type_2} services \"\n",
        "                   f\"and {num_1_inflow} households that were served by {carrier_2} moved to {carrier_1}, \"\n",
        "                   f\"with a net flow from {carrier_1} to {carrier_2} of {net_flow}.\")\n",
        "\n",
        "        return summary\n",
        "    except Exception as e:\n",
        "        return f\"Error processing row: {str(e)}\"\n",
        "\n",
        "# Rename the 'Summary' column to 'Human_Readable_Summary'\n",
        "df = df.rename(columns={'Summary': 'Human_Readable_Summary'})\n",
        "\n",
        "# Apply the function to the Human_Readable_Summary column\n",
        "df['Human_Readable_Summary'] = df.apply(create_uniform_summary, axis=1)\n",
        "\n",
        "# Save the updated CSV (replace 'updated_file.csv' with your desired output file name)\n",
        "df.to_csv('updated_file.csv', index=False)\n",
        "\n",
        "# Display the updated summaries to verify\n",
        "print(df[['Human_Readable_Summary']])\n",
        "\n",
        "# Check for any errors in the summaries\n",
        "errors = df[df['Human_Readable_Summary'].str.contains(\"Error processing row\")]\n",
        "if not errors.empty:\n",
        "    print(\"\\nRows with errors:\")\n",
        "    print(errors)\n",
        "else:\n",
        "    print(\"\\nNo errors found in the summaries.\")"
      ],
      "metadata": {
        "colab": {
          "base_uri": "https://localhost:8080/"
        },
        "id": "FuOo_792zxcW",
        "executionInfo": {
          "status": "ok",
          "timestamp": 1742562366933,
          "user_tz": -330,
          "elapsed": 13008,
          "user": {
            "displayName": "",
            "userId": ""
          }
        },
        "outputId": "49ebbf89-35e6-4373-86b7-e9fcaec105d9"
      },
      "id": "FuOo_792zxcW",
      "execution_count": 2,
      "outputs": [
        {
          "output_type": "stream",
          "name": "stderr",
          "text": [
            "<ipython-input-2-826183125cc4>:4: DtypeWarning: Columns (8) have mixed types. Specify dtype option on import or set low_memory=False.\n",
            "  df = pd.read_csv('/content/llm-human-readable__content_perfect5_part-00000-48ad1bf2-8259-4cb1-962e-eef75f54e9a2-c000.csv')\n"
          ]
        },
        {
          "output_type": "stream",
          "name": "stdout",
          "text": [
            "                                   Human_Readable_Summary\n",
            "0       During the period of 2024 June to 2024 July, i...\n",
            "1       During the period of 2024 June to 2024 July, i...\n",
            "2       During the period of 2024 June to 2024 July, i...\n",
            "3       During the period of 2024 June to 2024 July, i...\n",
            "4       During the period of 2024 June to 2024 July, i...\n",
            "...                                                   ...\n",
            "188779  During the period of 2024 June to 2024 July, i...\n",
            "188780  During the period of 2024 June to 2024 July, i...\n",
            "188781  During the period of 2024 June to 2024 July, i...\n",
            "188782  During the period of 2024 June to 2024 July, i...\n",
            "188783  During the period of 2024 June to 2024 July, i...\n",
            "\n",
            "[188784 rows x 1 columns]\n",
            "\n",
            "No errors found in the summaries.\n"
          ]
        }
      ]
    }
  ],
  "metadata": {
    "kernelspec": {
      "display_name": "Python 3",
      "language": "python",
      "name": "python3"
    },
    "language_info": {
      "codemirror_mode": {
        "name": "ipython",
        "version": 3
      },
      "file_extension": ".py",
      "mimetype": "text/x-python",
      "name": "python",
      "nbconvert_exporter": "python",
      "pygments_lexer": "ipython3",
      "version": "3.10.10"
    },
    "colab": {
      "provenance": [],
      "name": "masiyuddin.khan (Mar 21, 2025, 5:41:28 PM)"
    }
  },
  "nbformat": 4,
  "nbformat_minor": 5
}