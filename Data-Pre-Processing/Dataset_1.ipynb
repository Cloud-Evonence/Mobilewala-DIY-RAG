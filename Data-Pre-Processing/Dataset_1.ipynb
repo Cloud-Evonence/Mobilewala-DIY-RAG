{
  "cells": [
    {
      "cell_type": "code",
      "id": "Ys1PfwRuju3n5KdFUPSlLk0Z",
      "metadata": {
        "tags": [],
        "id": "Ys1PfwRuju3n5KdFUPSlLk0Z",
        "colab": {
          "base_uri": "https://localhost:8080/"
        },
        "outputId": "bc073afd-ba61-4fa0-8099-01d618f20e37"
      },
      "source": [
        "import pandas as pd\n",
        "\n",
        "# Load your CSV file (replace 'your_file.csv' with the actual file path in Colab)\n",
        "df = pd.read_csv('/content/llm-human-readable__content_perfect1_part-00000-3770a9e6-e33b-4dd0-a702-6e2c69180fd8-c000.csv')\n",
        "\n",
        "# Comprehensive mapping of state/territory codes to full names\n",
        "state_mapping = {\n",
        "    'AL': 'Alabama', 'AK': 'Alaska', 'AZ': 'Arizona', 'AR': 'Arkansas', 'CA': 'California',\n",
        "    'CO': 'Colorado', 'CT': 'Connecticut', 'DE': 'Delaware', 'FL': 'Florida', 'GA': 'Georgia',\n",
        "    'HI': 'Hawaii', 'ID': 'Idaho', 'IL': 'Illinois', 'IN': 'Indiana', 'IA': 'Iowa',\n",
        "    'KS': 'Kansas', 'KY': 'Kentucky', 'LA': 'Louisiana', 'ME': 'Maine', 'MD': 'Maryland',\n",
        "    'MA': 'Massachusetts', 'MI': 'Michigan', 'MN': 'Minnesota', 'MS': 'Mississippi', 'MO': 'Missouri',\n",
        "    'MT': 'Montana', 'NE': 'Nebraska', 'NV': 'Nevada', 'NH': 'New Hampshire', 'NJ': 'New Jersey',\n",
        "    'NM': 'New Mexico', 'NY': 'New York', 'NC': 'North Carolina', 'ND': 'North Dakota', 'OH': 'Ohio',\n",
        "    'OK': 'Oklahoma', 'OR': 'Oregon', 'PA': 'Pennsylvania', 'RI': 'Rhode Island', 'SC': 'South Carolina',\n",
        "    'SD': 'South Dakota', 'TN': 'Tennessee', 'TX': 'Texas', 'UT': 'Utah', 'VT': 'Vermont',\n",
        "    'VA': 'Virginia', 'WA': 'Washington', 'WV': 'West Virginia', 'WI': 'Wisconsin', 'WY': 'Wyoming',\n",
        "    'DC': 'District of Columbia',\n",
        "    # U.S. Territories\n",
        "    'PR': 'Puerto Rico', 'GU': 'Guam', 'VI': 'U.S. Virgin Islands', 'AS': 'American Samoa',\n",
        "    'MP': 'Northern Mariana Islands'\n",
        "}\n",
        "\n",
        "# Mapping for broadband types to their full names\n",
        "bb_type_mapping = {\n",
        "    'FBB': 'Fixed Broadband',\n",
        "    'FWA': 'Fixed Wireless Access'\n",
        "}\n",
        "\n",
        "# Function to generate the new summary based on the template\n",
        "def create_uniform_summary(row):\n",
        "    try:\n",
        "        # Extract values from the row using the correct column names\n",
        "        state = row['l1']  # State code (e.g., IL)\n",
        "        state_name = state_mapping.get(state, state)  # Map state code to full name\n",
        "        carrier_1 = row['Carrier_1']\n",
        "        carrier_2 = row['Carrier_2']\n",
        "        bb_type_1 = bb_type_mapping.get(row['Carrier_1_BB_type'], row['Carrier_1_BB_type'])  # Map FBB/FWA to full name\n",
        "        bb_type_2 = bb_type_mapping.get(row['Carrier_2_BB_type'], row['Carrier_2_BB_type'])  # Map FBB/FWA to full name\n",
        "        lost_subs_1 = int(row['num_2_outflow'])  # Households that left Carrier 1 for Carrier 2\n",
        "        lost_subs_2 = int(row['num_1_inflow'])   # Households that left Carrier 2 for Carrier 1\n",
        "        net_change = int(row['num_3_netflow'])   # Net flow from Carrier 1 to Carrier 2\n",
        "\n",
        "        # Determine increase/decline and acquisition/retention\n",
        "        if net_change > 0:\n",
        "            change_type = \"increase\"\n",
        "            change_aspect = \"acquisition\"\n",
        "        elif net_change < 0:\n",
        "            change_type = \"decline\"\n",
        "            change_aspect = \"retention\"\n",
        "        else:\n",
        "            change_type = \"no change\"\n",
        "            change_aspect = \"subscriber base\"\n",
        "\n",
        "        # Create the summary using the template\n",
        "        summary = (f\"During the period of 2024 June to 2024 July, in the state of {state_name} ({state}) in USA, \"\n",
        "                   f\"{lost_subs_1} households which were served by {carrier_1} that provides {bb_type_1} services moved to {carrier_2} that provides {bb_type_2} services \"\n",
        "                   f\"and {lost_subs_2} households that were served by {carrier_2} moved to {carrier_1}, \"\n",
        "                   f\"with a net flow from {carrier_1} to {carrier_2} of {net_change}. \"\n",
        "                   f\"This signifies a {change_type} in the {change_aspect} of {carrier_1}.\")\n",
        "\n",
        "        return summary\n",
        "    except Exception as e:\n",
        "        return f\"Error processing row: {str(e)}\"\n",
        "\n",
        "# Apply the function to the Human_Readable_Summary column\n",
        "df['Human_Readable_Summary'] = df.apply(create_uniform_summary, axis=1)\n",
        "\n",
        "# Save the updated CSV (replace 'updated_file.csv' with your desired output file name)\n",
        "df.to_csv('updated_file.csv', index=False)\n",
        "\n",
        "# Display the first few updated summaries to verify\n",
        "print(df[['Human_Readable_Summary']].head())\n",
        "\n",
        "# Check for any errors in the summaries\n",
        "errors = df[df['Human_Readable_Summary'].str.contains(\"Error processing row\")]\n",
        "if not errors.empty:\n",
        "    print(\"\\nRows with errors:\")\n",
        "    print(errors)\n",
        "else:\n",
        "    print(\"\\nNo errors found in the summaries.\")"
      ],
      "execution_count": null,
      "outputs": [
        {
          "output_type": "stream",
          "name": "stdout",
          "text": [
            "                              Human_Readable_Summary\n",
            "0  During the period of 2024 June to 2024 July, i...\n",
            "1  During the period of 2024 June to 2024 July, i...\n",
            "2  During the period of 2024 June to 2024 July, i...\n",
            "3  During the period of 2024 June to 2024 July, i...\n",
            "4  During the period of 2024 June to 2024 July, i...\n",
            "\n",
            "No errors found in the summaries.\n"
          ]
        }
      ]
    }
  ],
  "metadata": {
    "kernelspec": {
      "display_name": "Python 3",
      "language": "python",
      "name": "python3"
    },
    "language_info": {
      "codemirror_mode": {
        "name": "ipython",
        "version": 3
      },
      "file_extension": ".py",
      "mimetype": "text/x-python",
      "name": "python",
      "nbconvert_exporter": "python",
      "pygments_lexer": "ipython3",
      "version": "3.10.10"
    },
    "colab": {
      "provenance": []
    }
  },
  "nbformat": 4,
  "nbformat_minor": 5
}