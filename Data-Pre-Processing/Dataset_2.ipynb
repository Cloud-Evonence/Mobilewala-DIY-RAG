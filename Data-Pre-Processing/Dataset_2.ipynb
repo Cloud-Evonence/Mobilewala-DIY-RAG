{
  "cells": [
    {
      "cell_type": "code",
      "id": "aOgfNDE5KgB6oL4bQKqfQYbL",
      "metadata": {
        "tags": [],
        "id": "aOgfNDE5KgB6oL4bQKqfQYbL",
        "colab": {
          "base_uri": "https://localhost:8080/"
        },
        "executionInfo": {
          "status": "ok",
          "timestamp": 1742558042018,
          "user_tz": -330,
          "elapsed": 8,
          "user": {
            "displayName": "",
            "userId": ""
          }
        },
        "outputId": "260a18dd-70f4-487e-840a-d33f8b826ae3"
      },
      "source": [
        "import pandas as pd\n",
        "\n",
        "# Load your CSV file (replace 'your_file.csv' with the actual file path in Colab)\n",
        "df = pd.read_csv('/content/llm-human-readable__content_perfect2_data_part-00000-e392e962-1bf5-400a-be27-ee691b69834e-c000.csv')\n",
        "\n",
        "# Mapping of state names to state codes\n",
        "state_code_mapping = {\n",
        "    'Alabama': 'AL', 'Alaska': 'AK', 'Arizona': 'AZ', 'Arkansas': 'AR', 'California': 'CA',\n",
        "    'Colorado': 'CO', 'Connecticut': 'CT', 'Delaware': 'DE', 'Florida': 'FL', 'Georgia': 'GA',\n",
        "    'Hawaii': 'HI', 'Idaho': 'ID', 'Illinois': 'IL', 'Indiana': 'IN', 'Iowa': 'IA',\n",
        "    'Kansas': 'KS', 'Kentucky': 'KY', 'Louisiana': 'LA', 'Maine': 'ME', 'Maryland': 'MD',\n",
        "    'Massachusetts': 'MA', 'Michigan': 'MI', 'Minnesota': 'MN', 'Mississippi': 'MS', 'Missouri': 'MO',\n",
        "    'Montana': 'MT', 'Nebraska': 'NE', 'Nevada': 'NV', 'New Hampshire': 'NH', 'New Jersey': 'NJ',\n",
        "    'New Mexico': 'NM', 'New York': 'NY', 'North Carolina': 'NC', 'North Dakota': 'ND', 'Ohio': 'OH',\n",
        "    'Oklahoma': 'OK', 'Oregon': 'OR', 'Pennsylvania': 'PA', 'Rhode Island': 'RI', 'South Carolina': 'SC',\n",
        "    'South Dakota': 'SD', 'Tennessee': 'TN', 'Texas': 'TX', 'Utah': 'UT', 'Vermont': 'VT',\n",
        "    'Virginia': 'VA', 'Washington': 'WA', 'West Virginia': 'WV', 'Wisconsin': 'WI', 'Wyoming': 'WY',\n",
        "    'District of Columbia': 'DC',\n",
        "    # U.S. Territories\n",
        "    'Puerto Rico': 'PR', 'Guam': 'GU', 'U.S. Virgin Islands': 'VI', 'American Samoa': 'AS',\n",
        "    'Northern Mariana Islands': 'MP'\n",
        "}\n",
        "\n",
        "# Mapping for broadband types to their full names\n",
        "bb_type_mapping = {\n",
        "    'Fixed Broadband': 'Fixed Broadband',\n",
        "    'Fixed Wireless Access': 'Fixed Wireless Access'\n",
        "}\n",
        "\n",
        "# Function to generate the new summary based on the proposed template\n",
        "def create_uniform_summary(row):\n",
        "    try:\n",
        "        # Extract values from the row using the correct column names\n",
        "        state = row['State level']  # e.g., California\n",
        "        state_code = state_code_mapping.get(state, 'Unknown')  # Map state name to code\n",
        "        carrier = row['hh_bb_carrier']  # e.g., Spectrum\n",
        "        bb_type = bb_type_mapping.get(row['bb_type'], row['bb_type'])  # Map broadband type\n",
        "        distinct_hh = int(row['distinct_hhid_count'])  # Number of distinct households\n",
        "        total_hh = int(row['total_hhids'])  # Total households\n",
        "        carrier_share = float(row['carrier_share']) * 100  # Convert to percentage (e.g., 0.3183 → 31.83)\n",
        "\n",
        "        # Format the summary using the proposed template\n",
        "        summary = (f\"In the state of {state} ({state_code}) in USA, during 2024, July, \"\n",
        "                   f\"{carrier} providing {bb_type} services served {distinct_hh:,} households \"\n",
        "                   f\"out of a total of {total_hh:,} in the country, resulting in a market share of {carrier_share:.2f}%.\")\n",
        "\n",
        "        return summary\n",
        "    except Exception as e:\n",
        "        return f\"Error processing row: {str(e)}\"\n",
        "\n",
        "# Apply the function to the Human_Readable_Summary column\n",
        "df['Human_Readable_Summary'] = df.apply(create_uniform_summary, axis=1)\n",
        "\n",
        "# Save the updated CSV (replace 'updated_file.csv' with your desired output file name)\n",
        "df.to_csv('updated_file.csv', index=False)\n",
        "\n",
        "# Display the updated summaries to verify\n",
        "print(df[['Human_Readable_Summary']])\n",
        "\n",
        "# Check for any errors in the summaries\n",
        "errors = df[df['Human_Readable_Summary'].str.contains(\"Error processing row\")]\n",
        "if not errors.empty:\n",
        "    print(\"\\nRows with errors:\")\n",
        "    print(errors)\n",
        "else:\n",
        "    print(\"\\nNo errors found in the summaries.\")"
      ],
      "execution_count": 2,
      "outputs": [
        {
          "output_type": "stream",
          "name": "stdout",
          "text": [
            "                                 Human_Readable_Summary\n",
            "0     In the state of California (CA) in USA, during...\n",
            "1     In the state of California (CA) in USA, during...\n",
            "2     In the state of Florida (FL) in USA, during 20...\n",
            "3     In the state of Texas (TX) in USA, during 2024...\n",
            "4     In the state of Texas (TX) in USA, during 2024...\n",
            "...                                                 ...\n",
            "1596  In the state of Ohio (OH) in USA, during 2024,...\n",
            "1597  In the state of Florida (FL) in USA, during 20...\n",
            "1598  In the state of Alaska (AK) in USA, during 202...\n",
            "1599  In the state of Georgia (GA) in USA, during 20...\n",
            "1600  In the state of Rhode Island (RI) in USA, duri...\n",
            "\n",
            "[1601 rows x 1 columns]\n",
            "\n",
            "No errors found in the summaries.\n"
          ]
        }
      ]
    }
  ],
  "metadata": {
    "kernelspec": {
      "display_name": "Python 3",
      "language": "python",
      "name": "python3"
    },
    "language_info": {
      "codemirror_mode": {
        "name": "ipython",
        "version": 3
      },
      "file_extension": ".py",
      "mimetype": "text/x-python",
      "name": "python",
      "nbconvert_exporter": "python",
      "pygments_lexer": "ipython3",
      "version": "3.10.10"
    },
    "colab": {
      "provenance": [],
      "name": "masiyuddin.khan (Mar 21, 2025, 5:18:48 PM)"
    }
  },
  "nbformat": 4,
  "nbformat_minor": 5
}